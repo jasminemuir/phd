{
 "cells": [
  {
   "cell_type": "markdown",
   "metadata": {},
   "source": [
    "## Installing pylidar locally\n",
    "*Edits from Sam Gillignham for rebuilding pylidar*\n",
    "\n",
    "\n",
    "### Edit your preferences\n",
    "*Note make sure you don't have the conda channel osgeo added - it doesn't mix with conda-forge which is used by pylidar*\n",
    "\n",
    "\n",
    "**Open your preferences text file:**\n",
    "\n",
    "```nedit ~/.bashrc```\n",
    "\n",
    "**Clobber the long prompt on the terminal:**\n",
    "\n",
    "```PS1='\\w \\$ '```\n",
    "\n",
    "**Setup nedit with the \"e\" alias:**\n",
    "\n",
    "```e() {\n",
    "    nohup nedit $* >& /dev/null &\n",
    "}\n",
    "export -f```\n",
    "\n",
    "**Setup the gdal drivers for miniconda:**\n",
    "\n",
    "```alias ls='ls -CF'\n",
    "export GDAL_DRIVER_PATH=~/miniconda3/lib/gdalplugin.hpps\n",
    "export GDAL_DATA=~/miniconda3/share/gdal```\n",
    "\n",
    "**Setup the pylidar preferences:**\n",
    "\n",
    "```export RIVLIB_ROOT=~/rivlib-2_3_0-x86_64-linux-gcc44\n",
    "export RIWAVELIB_ROOT=~/riwavelib_wfm-2_3_0-x86_64-linux-gcc44\n",
    "export LD_LIBRARY_PATH=~/riwavelib_wfm-2_3_0-x86_64-linux-gcc44/lib:$LD_LIBRARY_PATH\n",
    "export PYLIDAR_CXX_FLAGS=\"-std=c++0x\"```\n",
    "\n",
    "Note that it's more than likely ```$CONDA_PREFIX``` doesn't exist when you run the .bashrc on terminal open, so you need to type this manually into the terminal\n",
    "```\n",
    "export LASTOOLS_ROOT=$CONDA_PREFIX\n",
    "export ZLIB_ROOT=$CONDA_PREFIX```\n"
   ]
  },
  {
   "cell_type": "markdown",
   "metadata": {},
   "source": [
    "### Run the setup\n",
    "\n",
    "```cd ~/hg/pylidar```\n",
    "\n",
    "```python setup.py install```"
   ]
  },
  {
   "cell_type": "markdown",
   "metadata": {},
   "source": [
    "## Workflow for minz raster\n",
    "\n",
    "**Navigate to files**\n",
    "\n",
    "```sudo mount /media/cdrive```\n",
    "\n",
    "```cd /media/cdrive/phd/bfp```"
   ]
  },
  {
   "cell_type": "markdown",
   "metadata": {},
   "source": [
    "## Import and Convert\n",
    "**Import .las to .spd, index the spd file, and create minimum z raster (5m)**\n",
    "\n",
    "```pylidar_translate --input 363-6649.las --output data.spdv4 --format SPDV4 --epsg 28355```\n",
    "\n",
    "```pylidar_index --input data.spdv4 --output indexed.spdv4```\n",
    "\n",
    "```pylidar_rasterize -i indexed.spdv4 -o minz.img -a Z --binsize 5.0```"
   ]
  },
  {
   "cell_type": "code",
   "execution_count": null,
   "metadata": {
    "collapsed": true
   },
   "outputs": [],
   "source": []
  }
 ],
 "metadata": {
  "kernelspec": {
   "display_name": "Python 3",
   "language": "python",
   "name": "python3"
  },
  "language_info": {
   "codemirror_mode": {
    "name": "ipython",
    "version": 3
   },
   "file_extension": ".py",
   "mimetype": "text/x-python",
   "name": "python",
   "nbconvert_exporter": "python",
   "pygments_lexer": "ipython3",
   "version": "3.5.2"
  }
 },
 "nbformat": 4,
 "nbformat_minor": 0
}
